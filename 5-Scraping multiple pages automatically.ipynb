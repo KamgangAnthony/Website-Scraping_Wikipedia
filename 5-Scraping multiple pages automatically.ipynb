{
 "cells": [
  {
   "cell_type": "markdown",
   "source": [
    "The links we want are underlined in black\n",
    "We will get them + get the texts inside these links"
   ],
   "metadata": {
    "collapsed": false,
    "pycharm": {
     "name": "#%% md\n"
    }
   }
  },
  {
   "cell_type": "markdown",
   "source": [
    "![The links we want are underlined in black](picture.png)"
   ],
   "metadata": {
    "collapsed": false,
    "pycharm": {
     "name": "#%% md\n"
    }
   }
  },
  {
   "cell_type": "markdown",
   "metadata": {
    "pycharm": {
     "name": "#%% md\n"
    }
   },
   "source": [
    "# Set-up and Workflow"
   ]
  },
  {
   "cell_type": "markdown",
   "metadata": {
    "pycharm": {
     "name": "#%% md\n"
    }
   },
   "source": [
    "### Importing the packages"
   ]
  },
  {
   "cell_type": "code",
   "execution_count": 1,
   "metadata": {
    "pycharm": {
     "name": "#%%\n"
    }
   },
   "outputs": [],
   "source": [
    "# Load the packages\n",
    "import requests\n",
    "from bs4 import BeautifulSoup\n",
    "from urllib.parse import urljoin"
   ]
  },
  {
   "cell_type": "markdown",
   "metadata": {
    "pycharm": {
     "name": "#%% md\n"
    }
   },
   "source": [
    "### Making a GET request"
   ]
  },
  {
   "cell_type": "code",
   "execution_count": 2,
   "metadata": {
    "pycharm": {
     "name": "#%%\n"
    }
   },
   "outputs": [
    {
     "data": {
      "text/plain": "200"
     },
     "execution_count": 2,
     "metadata": {},
     "output_type": "execute_result"
    }
   ],
   "source": [
    "# Defining the url of the site\n",
    "base_site = \"https://en.wikipedia.org/wiki/Music\"\n",
    "\n",
    "# Making a get request\n",
    "response = requests.get(base_site)\n",
    "response.status_code"
   ]
  },
  {
   "cell_type": "code",
   "execution_count": 3,
   "metadata": {
    "pycharm": {
     "name": "#%%\n"
    }
   },
   "outputs": [
    {
     "data": {
      "text/plain": "b'<!DOCTYPE html>\\n<html class=\"client-nojs\" lang=\"en\" dir=\"ltr\">\\n<head>\\n<meta charset=\"UTF-8\"/>\\n<title'"
     },
     "execution_count": 3,
     "metadata": {},
     "output_type": "execute_result"
    }
   ],
   "source": [
    "# Extracting the HTML\n",
    "html = response.content\n",
    "\n",
    "# Checking that the reply is indeed an HTML code by inspecting the first 100 symbols\n",
    "html[:100]"
   ]
  },
  {
   "cell_type": "markdown",
   "metadata": {
    "pycharm": {
     "name": "#%% md\n"
    }
   },
   "source": [
    "### Making the soup"
   ]
  },
  {
   "cell_type": "code",
   "execution_count": 4,
   "metadata": {
    "pycharm": {
     "name": "#%%\n"
    }
   },
   "outputs": [],
   "source": [
    "# Convert HTML to a BeautifulSoup object. This will allow us to parse out content from the HTML more easily.\n",
    "# Using the default parser as it is included in Python\n",
    "soup = BeautifulSoup(html, \"html.parser\")"
   ]
  },
  {
   "cell_type": "markdown",
   "metadata": {
    "pycharm": {
     "name": "#%% md\n"
    }
   },
   "source": [
    "# Extracting data from nested tags"
   ]
  },
  {
   "cell_type": "code",
   "execution_count": 5,
   "metadata": {
    "scrolled": true,
    "pycharm": {
     "name": "#%%\n"
    }
   },
   "outputs": [
    {
     "data": {
      "text/plain": "[<div class=\"hatnote navigation-not-searchable\" role=\"note\">For other uses, see <a class=\"mw-disambig\" href=\"/wiki/Music_(disambiguation)\" title=\"Music (disambiguation)\">Music (disambiguation)</a>.</div>,\n <div class=\"hatnote navigation-not-searchable\" role=\"note\">Main article: <a href=\"/wiki/History_of_music\" title=\"History of music\">History of music</a></div>,\n <div class=\"hatnote navigation-not-searchable\" role=\"note\">Main article: <a href=\"/wiki/Music_of_Egypt\" title=\"Music of Egypt\">Music of Egypt</a></div>,\n <div class=\"hatnote navigation-not-searchable\" role=\"note\">Main article: <a href=\"/wiki/Music_of_Greece\" title=\"Music of Greece\">Music of Greece</a></div>,\n <div class=\"hatnote navigation-not-searchable\" role=\"note\">Main article: <a href=\"/wiki/20th-century_music\" title=\"20th-century music\">20th-century music</a></div>,\n <div class=\"hatnote navigation-not-searchable\" role=\"note\">Main article: <a href=\"/wiki/Musical_composition\" title=\"Musical composition\">Musical composition</a></div>,\n <div class=\"hatnote navigation-not-searchable\" role=\"note\">Main article: <a href=\"/wiki/Musical_notation\" title=\"Musical notation\">Musical notation</a></div>,\n <div class=\"hatnote navigation-not-searchable\" role=\"note\">Main article: <a href=\"/wiki/Musical_improvisation\" title=\"Musical improvisation\">Musical improvisation</a></div>,\n <div class=\"hatnote navigation-not-searchable\" role=\"note\">Main article: <a href=\"/wiki/Music_theory\" title=\"Music theory\">Music theory</a></div>,\n <div class=\"hatnote navigation-not-searchable\" role=\"note\">Main articles: <a href=\"/wiki/History_of_music\" title=\"History of music\">History of music</a> and <a href=\"/wiki/Elements_of_music\" title=\"Elements of music\">Elements of music</a></div>,\n <div class=\"hatnote navigation-not-searchable\" role=\"note\">See also: <a href=\"/wiki/Strophic_form\" title=\"Strophic form\">Strophic form</a>, <a href=\"/wiki/Binary_form\" title=\"Binary form\">Binary form</a>, <a href=\"/wiki/Ternary_form\" title=\"Ternary form\">Ternary form</a>, <a class=\"mw-redirect\" href=\"/wiki/Rondo_form\" title=\"Rondo form\">Rondo form</a>, <a href=\"/wiki/Variation_(music)\" title=\"Variation (music)\">Variation (music)</a>, and <a class=\"mw-redirect\" href=\"/wiki/Musical_development\" title=\"Musical development\">Musical development</a></div>,\n <div class=\"hatnote navigation-not-searchable\" role=\"note\">Further information: <a href=\"/wiki/Aesthetics_of_music\" title=\"Aesthetics of music\">Aesthetics of music</a></div>,\n <div class=\"hatnote navigation-not-searchable\" role=\"note\">Main article: <a href=\"/wiki/Neuroscience_of_music\" title=\"Neuroscience of music\">Neuroscience of music</a></div>,\n <div class=\"hatnote navigation-not-searchable\" role=\"note\">Further information: <a href=\"/wiki/Hearing\" title=\"Hearing\">Hearing</a></div>,\n <div class=\"hatnote navigation-not-searchable\" role=\"note\">Main article: <a href=\"/wiki/Culture_in_music_cognition\" title=\"Culture in music cognition\">Culture in music cognition</a></div>,\n <div class=\"hatnote navigation-not-searchable\" role=\"note\">See also: <a href=\"/wiki/Ethnomusicology\" title=\"Ethnomusicology\">Ethnomusicology</a></div>,\n <div class=\"hatnote navigation-not-searchable\" role=\"note\">Main article: <a href=\"/wiki/Sociomusicology\" title=\"Sociomusicology\">Sociomusicology</a></div>,\n <div class=\"hatnote navigation-not-searchable\" role=\"note\">Main article: <a href=\"/wiki/Women_in_music\" title=\"Women in music\">Women in music</a></div>,\n <div class=\"hatnote navigation-not-searchable\" role=\"note\">Further information: <a href=\"/wiki/Computer_music\" title=\"Computer music\">Computer music</a> and <a href=\"/wiki/Music_technology\" title=\"Music technology\">Music technology</a></div>,\n <div class=\"hatnote navigation-not-searchable\" role=\"note\">Main article: <a href=\"/wiki/Royalty_payment#Music_royalties\" title=\"Royalty payment\">Royalty payment § Music royalties</a></div>,\n <div class=\"hatnote navigation-not-searchable\" role=\"note\">Further information: <a href=\"/wiki/Music_education\" title=\"Music education\">Music education</a></div>,\n <div class=\"hatnote navigation-not-searchable\" role=\"note\">Main article: <a href=\"/wiki/Ethnomusicology\" title=\"Ethnomusicology\">Ethnomusicology</a></div>,\n <div class=\"hatnote navigation-not-searchable\" role=\"note\">Main articles: <a href=\"/wiki/Outline_of_music\" title=\"Outline of music\">Outline of music</a> and <a href=\"/wiki/Index_of_music_articles\" title=\"Index of music articles\">Index of music articles</a></div>]"
     },
     "execution_count": 5,
     "metadata": {},
     "output_type": "execute_result"
    }
   ],
   "source": [
    "# Our objective now is to extract all links that can be found under a section heading\n",
    "# Marked as 'Main article:' or 'See also:'\n",
    "# By quick inspection, we see that these are contained in div tags with attribute 'role' set to 'note'\n",
    "\n",
    "div_notes = soup.find_all(\"div\", {\"role\": \"note\"})\n",
    "div_notes"
   ]
  },
  {
   "cell_type": "code",
   "execution_count": 6,
   "metadata": {
    "pycharm": {
     "name": "#%%\n"
    }
   },
   "outputs": [
    {
     "data": {
      "text/plain": "<div class=\"hatnote navigation-not-searchable\" role=\"note\">For other uses, see <a class=\"mw-disambig\" href=\"/wiki/Music_(disambiguation)\" title=\"Music (disambiguation)\">Music (disambiguation)</a>.</div>"
     },
     "execution_count": 6,
     "metadata": {},
     "output_type": "execute_result"
    }
   ],
   "source": [
    "div_notes[0]"
   ]
  },
  {
   "cell_type": "code",
   "execution_count": 7,
   "metadata": {
    "pycharm": {
     "name": "#%%\n"
    }
   },
   "outputs": [
    {
     "data": {
      "text/plain": "<a class=\"mw-disambig\" href=\"/wiki/Music_(disambiguation)\" title=\"Music (disambiguation)\">Music (disambiguation)</a>"
     },
     "execution_count": 7,
     "metadata": {},
     "output_type": "execute_result"
    }
   ],
   "source": [
    "# We can apply find() and find_all() to a tag in the same way we do it to the whole document\n",
    "div_notes[0].find('a')"
   ]
  },
  {
   "cell_type": "code",
   "execution_count": 8,
   "metadata": {
    "scrolled": true,
    "pycharm": {
     "name": "#%%\n"
    }
   },
   "outputs": [
    {
     "data": {
      "text/plain": "[<a class=\"mw-disambig\" href=\"/wiki/Music_(disambiguation)\" title=\"Music (disambiguation)\">Music (disambiguation)</a>,\n <a href=\"/wiki/History_of_music\" title=\"History of music\">History of music</a>,\n <a href=\"/wiki/Music_of_Egypt\" title=\"Music of Egypt\">Music of Egypt</a>,\n <a href=\"/wiki/Music_of_Greece\" title=\"Music of Greece\">Music of Greece</a>,\n <a href=\"/wiki/20th-century_music\" title=\"20th-century music\">20th-century music</a>,\n <a href=\"/wiki/Musical_composition\" title=\"Musical composition\">Musical composition</a>,\n <a href=\"/wiki/Musical_notation\" title=\"Musical notation\">Musical notation</a>,\n <a href=\"/wiki/Musical_improvisation\" title=\"Musical improvisation\">Musical improvisation</a>,\n <a href=\"/wiki/Music_theory\" title=\"Music theory\">Music theory</a>,\n <a href=\"/wiki/History_of_music\" title=\"History of music\">History of music</a>,\n <a href=\"/wiki/Strophic_form\" title=\"Strophic form\">Strophic form</a>,\n <a href=\"/wiki/Aesthetics_of_music\" title=\"Aesthetics of music\">Aesthetics of music</a>,\n <a href=\"/wiki/Neuroscience_of_music\" title=\"Neuroscience of music\">Neuroscience of music</a>,\n <a href=\"/wiki/Hearing\" title=\"Hearing\">Hearing</a>,\n <a href=\"/wiki/Culture_in_music_cognition\" title=\"Culture in music cognition\">Culture in music cognition</a>,\n <a href=\"/wiki/Ethnomusicology\" title=\"Ethnomusicology\">Ethnomusicology</a>,\n <a href=\"/wiki/Sociomusicology\" title=\"Sociomusicology\">Sociomusicology</a>,\n <a href=\"/wiki/Women_in_music\" title=\"Women in music\">Women in music</a>,\n <a href=\"/wiki/Computer_music\" title=\"Computer music\">Computer music</a>,\n <a href=\"/wiki/Royalty_payment#Music_royalties\" title=\"Royalty payment\">Royalty payment § Music royalties</a>,\n <a href=\"/wiki/Music_education\" title=\"Music education\">Music education</a>,\n <a href=\"/wiki/Ethnomusicology\" title=\"Ethnomusicology\">Ethnomusicology</a>,\n <a href=\"/wiki/Outline_of_music\" title=\"Outline of music\">Outline of music</a>]"
     },
     "execution_count": 8,
     "metadata": {},
     "output_type": "execute_result"
    }
   ],
   "source": [
    "# A naive approach to get all links would be to use find\n",
    "div_links = [div.find('a') for div in div_notes]\n",
    "div_links"
   ]
  },
  {
   "cell_type": "code",
   "execution_count": 9,
   "metadata": {
    "pycharm": {
     "name": "#%%\n"
    }
   },
   "outputs": [
    {
     "data": {
      "text/plain": "23"
     },
     "execution_count": 9,
     "metadata": {},
     "output_type": "execute_result"
    }
   ],
   "source": [
    "len(div_links)"
   ]
  },
  {
   "cell_type": "code",
   "execution_count": 10,
   "metadata": {
    "pycharm": {
     "name": "#%%\n"
    }
   },
   "outputs": [
    {
     "data": {
      "text/plain": "<div class=\"hatnote navigation-not-searchable\" role=\"note\">See also: <a href=\"/wiki/Strophic_form\" title=\"Strophic form\">Strophic form</a>, <a href=\"/wiki/Binary_form\" title=\"Binary form\">Binary form</a>, <a href=\"/wiki/Ternary_form\" title=\"Ternary form\">Ternary form</a>, <a class=\"mw-redirect\" href=\"/wiki/Rondo_form\" title=\"Rondo form\">Rondo form</a>, <a href=\"/wiki/Variation_(music)\" title=\"Variation (music)\">Variation (music)</a>, and <a class=\"mw-redirect\" href=\"/wiki/Musical_development\" title=\"Musical development\">Musical development</a></div>"
     },
     "execution_count": 10,
     "metadata": {},
     "output_type": "execute_result"
    }
   ],
   "source": [
    "# However, some divs have more than 1 link\n",
    "div_notes[10]"
   ]
  },
  {
   "cell_type": "code",
   "execution_count": 11,
   "metadata": {
    "pycharm": {
     "name": "#%%\n"
    }
   },
   "outputs": [
    {
     "data": {
      "text/plain": "[<a href=\"/wiki/Strophic_form\" title=\"Strophic form\">Strophic form</a>,\n <a href=\"/wiki/Binary_form\" title=\"Binary form\">Binary form</a>,\n <a href=\"/wiki/Ternary_form\" title=\"Ternary form\">Ternary form</a>,\n <a class=\"mw-redirect\" href=\"/wiki/Rondo_form\" title=\"Rondo form\">Rondo form</a>,\n <a href=\"/wiki/Variation_(music)\" title=\"Variation (music)\">Variation (music)</a>,\n <a class=\"mw-redirect\" href=\"/wiki/Musical_development\" title=\"Musical development\">Musical development</a>]"
     },
     "execution_count": 11,
     "metadata": {},
     "output_type": "execute_result"
    }
   ],
   "source": [
    "# This div has 6 links in it\n",
    "div_notes[10].find_all('a')"
   ]
  },
  {
   "cell_type": "code",
   "execution_count": 12,
   "metadata": {
    "pycharm": {
     "name": "#%%\n"
    }
   },
   "outputs": [],
   "source": [
    "# Therefore we need to use find_all\n",
    "# Let's use a for loop\n",
    "\n",
    "# Define initially empty list of links\n",
    "div_links = []\n",
    "\n",
    "for div in div_notes:\n",
    "    anchors = div.find_all('a')\n",
    "    \n",
    "    # Need to add every link from anchors to div_links\n",
    "    for a in anchors:\n",
    "        div_links.append(a)\n",
    "    \n",
    "    # Can use div_links.extend(anchors) instead of the for loop\n",
    "    "
   ]
  },
  {
   "cell_type": "code",
   "execution_count": 13,
   "metadata": {
    "scrolled": true,
    "pycharm": {
     "name": "#%%\n"
    }
   },
   "outputs": [
    {
     "data": {
      "text/plain": "[<a class=\"mw-disambig\" href=\"/wiki/Music_(disambiguation)\" title=\"Music (disambiguation)\">Music (disambiguation)</a>,\n <a href=\"/wiki/History_of_music\" title=\"History of music\">History of music</a>,\n <a href=\"/wiki/Music_of_Egypt\" title=\"Music of Egypt\">Music of Egypt</a>,\n <a href=\"/wiki/Music_of_Greece\" title=\"Music of Greece\">Music of Greece</a>,\n <a href=\"/wiki/20th-century_music\" title=\"20th-century music\">20th-century music</a>,\n <a href=\"/wiki/Musical_composition\" title=\"Musical composition\">Musical composition</a>,\n <a href=\"/wiki/Musical_notation\" title=\"Musical notation\">Musical notation</a>,\n <a href=\"/wiki/Musical_improvisation\" title=\"Musical improvisation\">Musical improvisation</a>,\n <a href=\"/wiki/Music_theory\" title=\"Music theory\">Music theory</a>,\n <a href=\"/wiki/History_of_music\" title=\"History of music\">History of music</a>,\n <a href=\"/wiki/Elements_of_music\" title=\"Elements of music\">Elements of music</a>,\n <a href=\"/wiki/Strophic_form\" title=\"Strophic form\">Strophic form</a>,\n <a href=\"/wiki/Binary_form\" title=\"Binary form\">Binary form</a>,\n <a href=\"/wiki/Ternary_form\" title=\"Ternary form\">Ternary form</a>,\n <a class=\"mw-redirect\" href=\"/wiki/Rondo_form\" title=\"Rondo form\">Rondo form</a>,\n <a href=\"/wiki/Variation_(music)\" title=\"Variation (music)\">Variation (music)</a>,\n <a class=\"mw-redirect\" href=\"/wiki/Musical_development\" title=\"Musical development\">Musical development</a>,\n <a href=\"/wiki/Aesthetics_of_music\" title=\"Aesthetics of music\">Aesthetics of music</a>,\n <a href=\"/wiki/Neuroscience_of_music\" title=\"Neuroscience of music\">Neuroscience of music</a>,\n <a href=\"/wiki/Hearing\" title=\"Hearing\">Hearing</a>,\n <a href=\"/wiki/Culture_in_music_cognition\" title=\"Culture in music cognition\">Culture in music cognition</a>,\n <a href=\"/wiki/Ethnomusicology\" title=\"Ethnomusicology\">Ethnomusicology</a>,\n <a href=\"/wiki/Sociomusicology\" title=\"Sociomusicology\">Sociomusicology</a>,\n <a href=\"/wiki/Women_in_music\" title=\"Women in music\">Women in music</a>,\n <a href=\"/wiki/Computer_music\" title=\"Computer music\">Computer music</a>,\n <a href=\"/wiki/Music_technology\" title=\"Music technology\">Music technology</a>,\n <a href=\"/wiki/Royalty_payment#Music_royalties\" title=\"Royalty payment\">Royalty payment § Music royalties</a>,\n <a href=\"/wiki/Music_education\" title=\"Music education\">Music education</a>,\n <a href=\"/wiki/Ethnomusicology\" title=\"Ethnomusicology\">Ethnomusicology</a>,\n <a href=\"/wiki/Outline_of_music\" title=\"Outline of music\">Outline of music</a>,\n <a href=\"/wiki/Index_of_music_articles\" title=\"Index of music articles\">Index of music articles</a>]"
     },
     "execution_count": 13,
     "metadata": {},
     "output_type": "execute_result"
    }
   ],
   "source": [
    "div_links"
   ]
  },
  {
   "cell_type": "code",
   "execution_count": 14,
   "metadata": {
    "pycharm": {
     "name": "#%%\n"
    }
   },
   "outputs": [
    {
     "data": {
      "text/plain": "31"
     },
     "execution_count": 14,
     "metadata": {},
     "output_type": "execute_result"
    }
   ],
   "source": [
    "# We now have a complete list\n",
    "len(div_links)"
   ]
  },
  {
   "cell_type": "code",
   "execution_count": 15,
   "metadata": {
    "scrolled": true,
    "pycharm": {
     "name": "#%%\n"
    }
   },
   "outputs": [
    {
     "data": {
      "text/plain": "['https://en.wikipedia.org/wiki/Music_(disambiguation)',\n 'https://en.wikipedia.org/wiki/History_of_music',\n 'https://en.wikipedia.org/wiki/Music_of_Egypt',\n 'https://en.wikipedia.org/wiki/Music_of_Greece',\n 'https://en.wikipedia.org/wiki/20th-century_music',\n 'https://en.wikipedia.org/wiki/Musical_composition',\n 'https://en.wikipedia.org/wiki/Musical_notation',\n 'https://en.wikipedia.org/wiki/Musical_improvisation',\n 'https://en.wikipedia.org/wiki/Music_theory',\n 'https://en.wikipedia.org/wiki/History_of_music',\n 'https://en.wikipedia.org/wiki/Elements_of_music',\n 'https://en.wikipedia.org/wiki/Strophic_form',\n 'https://en.wikipedia.org/wiki/Binary_form',\n 'https://en.wikipedia.org/wiki/Ternary_form',\n 'https://en.wikipedia.org/wiki/Rondo_form',\n 'https://en.wikipedia.org/wiki/Variation_(music)',\n 'https://en.wikipedia.org/wiki/Musical_development',\n 'https://en.wikipedia.org/wiki/Aesthetics_of_music',\n 'https://en.wikipedia.org/wiki/Neuroscience_of_music',\n 'https://en.wikipedia.org/wiki/Hearing',\n 'https://en.wikipedia.org/wiki/Culture_in_music_cognition',\n 'https://en.wikipedia.org/wiki/Ethnomusicology',\n 'https://en.wikipedia.org/wiki/Sociomusicology',\n 'https://en.wikipedia.org/wiki/Women_in_music',\n 'https://en.wikipedia.org/wiki/Computer_music',\n 'https://en.wikipedia.org/wiki/Music_technology',\n 'https://en.wikipedia.org/wiki/Royalty_payment#Music_royalties',\n 'https://en.wikipedia.org/wiki/Music_education',\n 'https://en.wikipedia.org/wiki/Ethnomusicology',\n 'https://en.wikipedia.org/wiki/Outline_of_music',\n 'https://en.wikipedia.org/wiki/Index_of_music_articles']"
     },
     "execution_count": 15,
     "metadata": {},
     "output_type": "execute_result"
    }
   ],
   "source": [
    "\n",
    "\n",
    "# Let's get the URLs\n",
    "note_urls = [urljoin(base_site, l.get('href')) for l in div_links]\n",
    "note_urls"
   ]
  },
  {
   "cell_type": "code",
   "execution_count": 16,
   "metadata": {
    "pycharm": {
     "name": "#%%\n"
    }
   },
   "outputs": [
    {
     "data": {
      "text/plain": "31"
     },
     "execution_count": 16,
     "metadata": {},
     "output_type": "execute_result"
    }
   ],
   "source": [
    "len(note_urls)"
   ]
  },
  {
   "cell_type": "markdown",
   "metadata": {
    "pycharm": {
     "name": "#%% md\n"
    }
   },
   "source": [
    "# Scraping multiple pages automatically - Extracting all the text from the note URLs"
   ]
  },
  {
   "cell_type": "code",
   "execution_count": 17,
   "metadata": {
    "scrolled": true,
    "pycharm": {
     "name": "#%%\n"
    }
   },
   "outputs": [
    {
     "data": {
      "text/plain": "['https://en.wikipedia.org/wiki/Music_(disambiguation)',\n 'https://en.wikipedia.org/wiki/History_of_music',\n 'https://en.wikipedia.org/wiki/Music_of_Egypt',\n 'https://en.wikipedia.org/wiki/Music_of_Greece',\n 'https://en.wikipedia.org/wiki/20th-century_music',\n 'https://en.wikipedia.org/wiki/Musical_composition',\n 'https://en.wikipedia.org/wiki/Musical_notation',\n 'https://en.wikipedia.org/wiki/Musical_improvisation',\n 'https://en.wikipedia.org/wiki/Music_theory',\n 'https://en.wikipedia.org/wiki/History_of_music',\n 'https://en.wikipedia.org/wiki/Elements_of_music',\n 'https://en.wikipedia.org/wiki/Strophic_form',\n 'https://en.wikipedia.org/wiki/Binary_form',\n 'https://en.wikipedia.org/wiki/Ternary_form',\n 'https://en.wikipedia.org/wiki/Rondo_form',\n 'https://en.wikipedia.org/wiki/Variation_(music)',\n 'https://en.wikipedia.org/wiki/Musical_development',\n 'https://en.wikipedia.org/wiki/Aesthetics_of_music',\n 'https://en.wikipedia.org/wiki/Neuroscience_of_music',\n 'https://en.wikipedia.org/wiki/Hearing',\n 'https://en.wikipedia.org/wiki/Culture_in_music_cognition',\n 'https://en.wikipedia.org/wiki/Ethnomusicology',\n 'https://en.wikipedia.org/wiki/Sociomusicology',\n 'https://en.wikipedia.org/wiki/Women_in_music',\n 'https://en.wikipedia.org/wiki/Computer_music',\n 'https://en.wikipedia.org/wiki/Music_technology',\n 'https://en.wikipedia.org/wiki/Royalty_payment#Music_royalties',\n 'https://en.wikipedia.org/wiki/Music_education',\n 'https://en.wikipedia.org/wiki/Ethnomusicology',\n 'https://en.wikipedia.org/wiki/Outline_of_music',\n 'https://en.wikipedia.org/wiki/Index_of_music_articles']"
     },
     "execution_count": 17,
     "metadata": {},
     "output_type": "execute_result"
    }
   ],
   "source": [
    "# We will use the links we obtained above\n",
    "note_urls"
   ]
  },
  {
   "cell_type": "code",
   "execution_count": 18,
   "metadata": {
    "pycharm": {
     "name": "#%%\n"
    }
   },
   "outputs": [],
   "source": [
    "# The objective is to get all the useful text from those wikipedia pages\n",
    "\n",
    "# We will do that by extracting all text contained in a paragraph element,\n",
    "# for all paragraphs on a page,\n",
    "# for all pages (in note_urls)"
   ]
  },
  {
   "cell_type": "code",
   "execution_count": 19,
   "outputs": [],
   "source": [
    "import lxml"
   ],
   "metadata": {
    "collapsed": false,
    "pycharm": {
     "name": "#%%\n"
    }
   }
  },
  {
   "cell_type": "code",
   "execution_count": 20,
   "metadata": {
    "scrolled": true,
    "pycharm": {
     "name": "#%%\n"
    }
   },
   "outputs": [
    {
     "name": "stdout",
     "output_type": "stream",
     "text": [
      "URL #1: https://en.wikipedia.org/wiki/Music_(disambiguation)\n",
      "URL #2: https://en.wikipedia.org/wiki/History_of_music\n",
      "URL #3: https://en.wikipedia.org/wiki/Music_of_Egypt\n",
      "URL #4: https://en.wikipedia.org/wiki/Music_of_Greece\n",
      "URL #5: https://en.wikipedia.org/wiki/20th-century_music\n",
      "URL #6: https://en.wikipedia.org/wiki/Musical_composition\n",
      "URL #7: https://en.wikipedia.org/wiki/Musical_notation\n",
      "URL #8: https://en.wikipedia.org/wiki/Musical_improvisation\n",
      "URL #9: https://en.wikipedia.org/wiki/Music_theory\n",
      "URL #10: https://en.wikipedia.org/wiki/History_of_music\n",
      "URL #11: https://en.wikipedia.org/wiki/Elements_of_music\n",
      "URL #12: https://en.wikipedia.org/wiki/Strophic_form\n",
      "URL #13: https://en.wikipedia.org/wiki/Binary_form\n",
      "URL #14: https://en.wikipedia.org/wiki/Ternary_form\n",
      "URL #15: https://en.wikipedia.org/wiki/Rondo_form\n",
      "URL #16: https://en.wikipedia.org/wiki/Variation_(music)\n",
      "URL #17: https://en.wikipedia.org/wiki/Musical_development\n",
      "URL #18: https://en.wikipedia.org/wiki/Aesthetics_of_music\n",
      "URL #19: https://en.wikipedia.org/wiki/Neuroscience_of_music\n",
      "URL #20: https://en.wikipedia.org/wiki/Hearing\n",
      "URL #21: https://en.wikipedia.org/wiki/Culture_in_music_cognition\n",
      "URL #22: https://en.wikipedia.org/wiki/Ethnomusicology\n",
      "URL #23: https://en.wikipedia.org/wiki/Sociomusicology\n",
      "URL #24: https://en.wikipedia.org/wiki/Women_in_music\n",
      "URL #25: https://en.wikipedia.org/wiki/Computer_music\n",
      "URL #26: https://en.wikipedia.org/wiki/Music_technology\n",
      "URL #27: https://en.wikipedia.org/wiki/Royalty_payment#Music_royalties\n",
      "URL #28: https://en.wikipedia.org/wiki/Music_education\n",
      "URL #29: https://en.wikipedia.org/wiki/Ethnomusicology\n",
      "URL #30: https://en.wikipedia.org/wiki/Outline_of_music\n",
      "URL #31: https://en.wikipedia.org/wiki/Index_of_music_articles\n"
     ]
    }
   ],
   "source": [
    "# initialize list to store paragraph text for each webpage\n",
    "par_text = []\n",
    "\n",
    "\n",
    "# creating a loop counter\n",
    "i = 0\n",
    "\n",
    "# Loop through each URL in note_urls\n",
    "for url in note_urls:\n",
    "    \n",
    "    # connect to every webpage\n",
    "    note_resp = requests.get(url)\n",
    "    \n",
    "    # checking if the request is successful\n",
    "    if note_resp.status_code == 200:            # Everything is OK!\n",
    "        print('URL #{0}: {1}'.format(i+1,url))    # print out the number of iteration and the URL to keep track of place in loop\n",
    "    \n",
    "    else:                                       # Something is wrong!\n",
    "        print('Status code {0}: Skipping URL #{1}: {2}'.format(note_resp.status_code, i+1, url))\n",
    "        i = i+1\n",
    "        continue\n",
    "        \n",
    "    \n",
    "    # get HTML from webpage\n",
    "    note_html = note_resp.content\n",
    "    \n",
    "    # convert HTML to BeautifulSoup object\n",
    "    note_soup = BeautifulSoup(note_resp.content, 'lxml')\n",
    "    \n",
    "    # find all \"p\" tags on the webpage\n",
    "    note_pars = note_soup.find_all(\"p\")\n",
    "    \n",
    "    # Get the text from each \"p\" tag\n",
    "    text = [p.text for p in note_pars]\n",
    "    \n",
    "    # Append text from each \"p\" tag to our list, par_text\n",
    "    par_text.append(text)\n",
    "    \n",
    "    # Incrementing the loop counter\n",
    "    i = i+1\n"
   ]
  },
  {
   "cell_type": "code",
   "execution_count": 21,
   "metadata": {
    "pycharm": {
     "name": "#%%\n"
    }
   },
   "outputs": [
    {
     "data": {
      "text/plain": "['Music is an art form consisting of sound and silence, expressed through time.\\n',\n 'Music may also refer to:\\n']"
     },
     "execution_count": 21,
     "metadata": {},
     "output_type": "execute_result"
    }
   ],
   "source": [
    "# Inspecting the result for the first page\n",
    "par_text[0]"
   ]
  },
  {
   "cell_type": "code",
   "execution_count": 22,
   "metadata": {
    "pycharm": {
     "name": "#%%\n"
    }
   },
   "outputs": [
    {
     "data": {
      "text/plain": "'Music is an art form consisting of sound and silence, expressed through time.\\nMusic may also refer to:\\n'"
     },
     "execution_count": 22,
     "metadata": {},
     "output_type": "execute_result"
    }
   ],
   "source": [
    "# We see that we have a list of all paragraph strings\n",
    "# It would be more useful to have all the text as one string, not as a list of strings\n",
    "\n",
    "# Merging all paragraphs of the first page into one long string\n",
    "page_text = \"\".join(par_text[0])\n",
    "page_text"
   ]
  },
  {
   "cell_type": "code",
   "execution_count": 23,
   "metadata": {
    "pycharm": {
     "name": "#%%\n"
    }
   },
   "outputs": [
    {
     "data": {
      "text/plain": "'Music is an art form consisting of sound and silence, expressed through time.\\nMusic may also refer to:\\n'"
     },
     "execution_count": 23,
     "metadata": {},
     "output_type": "execute_result"
    }
   ],
   "source": [
    "# Let's do that for all pages\n",
    "\n",
    "# Merging all paragraphs for all pages\n",
    "page_text = [\"\".join(text) for text in par_text]\n",
    "\n",
    "# Inspect the result for some webpage\n",
    "page_text[0]"
   ]
  },
  {
   "cell_type": "code",
   "execution_count": 24,
   "metadata": {
    "pycharm": {
     "name": "#%%\n"
    }
   },
   "outputs": [
    {
     "name": "stdout",
     "output_type": "stream",
     "text": [
      "The following Wikipedia articles deal with 20th-century music.\n",
      "\n",
      "\n",
      "\n",
      "\n",
      "\n"
     ]
    }
   ],
   "source": [
    "# Inspect result\n",
    "print(page_text[4])"
   ]
  },
  {
   "cell_type": "code",
   "execution_count": 25,
   "metadata": {
    "pycharm": {
     "name": "#%%\n"
    }
   },
   "outputs": [],
   "source": [
    "# Creating a dictionary with the (key,value) pairs being (url,text)\n",
    "url_to_text = dict(zip(note_urls, page_text))  # You don't need to know the specifics of these functions"
   ]
  },
  {
   "cell_type": "code",
   "execution_count": 26,
   "metadata": {
    "scrolled": true,
    "pycharm": {
     "name": "#%%\n"
    }
   },
   "outputs": [
    {
     "name": "stdout",
     "output_type": "stream",
     "text": [
      "\n",
      "Music theory is the study of the practices and possibilities of music. The Oxford Companion to Music describes three interrelated uses of the term \"music theory\". The first is the \"rudiments\", that are needed to understand music notation (key signatures, time signatures, and rhythmic notation); the second is learning scholars' views on music from antiquity to the present; the third is a sub-topic of musicology that \"seeks to define processes and general principles in music\". The musicological approach to theory differs from music analysis \"in that it takes as its starting-point not the individual work or performance but the fundamental materials from which it is built.\"[1]\n",
      "Music theory is frequently concerned with describing how musicians and composers make music, including tuning systems and composition methods among other topics. Because of the ever-expanding conception of what constitutes music (see Definition of music), a more inclusive definition could be the consideration of any sonic phenomena, including silence. This is not an absolute guideline, however; for example, the study of \"music\" in the Quadrivium liberal arts university curriculum, that was common in medieval Europe, was an abstract system of proportions that was carefully studied at a distance from actual musical practice.[n 1] But this medieval discipline became the basis for tuning systems in later centuries and is generally included in modern scholarship on the history of music theory.[n 2]\n",
      "Music theory as a practical discipline encompasses the methods and concepts that composers and other musicians use in creating music. The development, preservation, and transmission of music theory in this sense may be found in oral and written music-making traditions, musical instruments, and other artifacts. For example, ancient instruments from prehistoric sites around the world reveal details about the music they produced and potentially something of the musical theory that might have been used by their makers (see History of music and Musical instrument). In ancient and living cultures around the world, the deep and long roots of music theory are visible in instruments, oral traditions, and current music-making. Many cultures have also considered music theory in more formal ways such as written treatises and music notation. Practical and scholarly traditions overlap, as many practical treatises about music place themselves within a tradition of other treatises, which are cited regularly just as scholarly writing cites earlier research.\n",
      "In modern academia, music theory is a subfield of musicology, the wider study of musical cultures and history. Etymologically, music theory, is an act of contemplation of music, from the Greek word θεωρία, meaning a looking at, a viewing; a contemplation, speculation, theory; a sight, a spectacle.[3] As such, it is often concerned with abstract musical aspects such as tuning and tonal systems, scales, consonance and dissonance, and rhythmic relationships. In addition, there is also a body of theory concerning practical aspects, such as the creation or the performance of music, orchestration, ornamentation, improvisation, and electronic sound production.[4] A person who researches or teaches music theory is a music theorist. University study, typically to the MA or PhD level, is required to teach as a tenure-track music theorist in a US or Canadian university. Methods of analysis include mathematics, graphic analysis, and especially analysis enabled by western music notation. Comparative, descriptive, statistical, and other methods are also used. Music theory textbooks, especially in the United States of America, often include elements of musical acoustics, considerations of musical notation, and techniques of tonal composition (harmony and counterpoint), among other topics.\n",
      "Preserved prehistoric instruments, artifacts, and later depictions of performance in artworks can give clues to the structure of pitch systems in prehistoric cultures. See for instance Paleolithic flutes, Gǔdí, and Anasazi flute.\n",
      "Several surviving Sumerian and Akkadian clay tablets include musical information of a theoretical nature, mainly lists of intervals and tunings.[5] The scholar Sam Mirelman reports that the earliest of these texts dates from before 1500 BCE, a millennium earlier than surviving evidence from any other culture of comparable musical thought. Further, \"All the Mesopotamian texts [about music] are united by the use of a terminology for music that, according to the approximate dating of the texts, was in use for over 1,000 years.\"[6]\n",
      "Much of Chinese music history and theory remains unclear.[7]\n",
      "Chinese theory starts from numbers, the main musical numbers being twelve, five and eight. Twelve refers to the number of pitches on which the scales can be constructed. The Lüshi chunqiu from about 239 BCE recalls the legend of Ling Lun. On order of the Yellow Emperor, Ling Lun collected twelve bamboo lengths with thick and even nodes. Blowing on one of these like a pipe, he found its sound agreeable and named it huangzhong, the \"Yellow Bell.\" He then heard phoenixes singing. The male and female phoenix each sang six tones. Ling Lun cut his bamboo pipes to match the pitches of the phoenixes, producing twelve pitch pipes in two sets: six from the male phoenix and six from the female: these were called the lülü or later the shierlü.[8]\n",
      "Apart from technical and structural aspects, ancient Chinese music theory also discusses topics such as the nature and functions of music. The Yueji (\"Record of music\", c1st and 2nd centuries BCE), for example, manifests Confucian moral theories of understanding music in its social context. Studied and implemented by Confucian scholar-officials [...], these theories helped form a musical Confucianism that overshadowed but did not erase rival approaches. These include the assertion of Mozi (c. 468 – c. 376 BCE) that music wasted human and material resources, and Laozi's claim that the greatest music had no sounds. [...] Even the music of the qin zither, a genre closely affiliated with Confucian scholar-officials, includes many works with Daoist references, such as Tianfeng huanpei (\"Heavenly Breeze and Sounds of Jade Pendants\").[7]The Samaveda and Yajurveda (c. 1200 – 1000 BCE) are among the earliest testimonies of Indian music, but they contain no theory properly speaking. The Natya Shastra, written between 200 BCE to 200 CE, discusses intervals (Śrutis), scales (Grāmas), consonances and dissonances, classes of melodic structure (Mūrchanās, modes?), melodic types (Jātis), instruments, etc.[9]\n",
      "Early preserved Greek writings on music theory include two types of works:[10]\n",
      "Several names of theorists are known before these works, including Pythagoras (c. 570 – c. 495 BCE), Philolaus (c. 470 – c. 385 BCE), Archytas (428–347 BCE), and others.\n",
      "Works of the first type (technical manuals) include\n",
      "More philosophical treatises of the second type include\n",
      "The pipa instrument carried with it a theory of musical modes that subsequently led to the Sui and Tang theory of 84 musical modes.[7]\n",
      "Medieval Arabic music theorists include:[n 3]\n",
      "The Latin treatise De institutione musica by the Roman philosopher Boethius (written c. 500, translated as Fundamentals of Music[2]) was a touchstone for other writings on music in medieval Europe. Boethius represented Classical authority on music during the Middle Ages, as the Greek writings on which he based his work were not read or translated by later Europeans until the 15th century.[21] This treatise carefully maintains distance from the actual practice of music, focusing mostly on the mathematical proportions involved in tuning systems and on the moral character of particular modes. Several centuries later, treatises began to appear which dealt with the actual composition of pieces of music in the plainchant tradition.[22] At the end of the ninth century, Hucbald worked towards more precise pitch notation for the neumes used to record plainchant.\n",
      "Guido d'Arezzo' wrote in 1028 a letter to Michael of Pomposa, entitled Epistola de ignoto cantu,[23] in which he introduced the practice of using syllables to describe notes and intervals. This was the source of the hexachordal solmization that was to be used until the end of the Middle Ages. Guido also wrote about emotional qualities of the modes, the phrase structure of plainchant, the temporal meaning of the neumes, etc.; his chapters on polyphony \"come closer to describing and illustrating real music than any previous account\" in the Western tradition.[21]\n",
      "During the thirteenth century, a new rhythm system called mensural notation grew out of an earlier, more limited method of notating rhythms in terms of fixed repetitive patterns, the so-called rhythmic modes, which were developed in France around 1200. An early form of mensural notation was first described and codified in the treatise Ars cantus mensurabilis (\"The art of measured chant\") by Franco of Cologne (c. 1280). Mensural notation used different note shapes to specify different durations, allowing scribes to capture rhythms which varied instead of repeating the same fixed pattern; it is a proportional notation, in the sense that each note value is equal to two or three times the shorter value, or half or a third of the longer value. This same notation, transformed through various extensions and improvements during the Renaissance, forms the basis for rhythmic notation in European classical music today.\n",
      "D'Erlanger divulges that the Arabic music scale is derived from the Greek music scale, and that Arabic music is connected to certain features of Arabic culture, such as astrology.[20]\n",
      "Music is composed of aural phenomena; \"music theory\" considers how those phenomena apply in music. Music theory considers melody, rhythm, counterpoint, harmony, form, tonal systems, scales, tuning, intervals, consonance, dissonance, durational proportions, the acoustics of pitch systems, composition, performance, orchestration, ornamentation, improvisation, electronic sound production, etc.[27]\n",
      "Pitch is the lowness or highness of a tone, for example the difference between middle C and a higher C. The frequency of the sound waves producing a pitch can be measured precisely, but the perception of pitch is more complex because single notes from natural sources are usually a complex mix of many frequencies. Accordingly, theorists often describe pitch as a subjective sensation rather than an objective measurement of sound.[28]\n",
      "Specific frequencies are often assigned letter names. Today most orchestras assign concert A (the A above middle C on the piano) to the frequency of 440 Hz. This assignment is somewhat arbitrary; for example, in 1859 France, the same A was tuned to 435 Hz. Such differences can have a noticeable effect on the timbre of instruments and other phenomena. Thus, in historically informed performance of older music, tuning is often set to match the tuning used in the period when it was written. Additionally, many cultures do not attempt to standardize pitch, often considering that it should be allowed to vary depending on genre, style, mood, etc.\n",
      "The difference in pitch between two notes is called an interval. The most basic interval is the unison, which is simply two notes of the same pitch. The octave interval is two pitches that are either double or half the frequency of one another. The unique characteristics of octaves gave rise to the concept of pitch class: pitches of the same letter name that occur in different octaves may be grouped into a single \"class\" by ignoring the difference in octave. For example, a high C and a low C are members of the same pitch class—the class that contains all C's. [29]\n",
      "Musical tuning systems, or temperaments, determine the precise size of intervals. Tuning systems vary widely within and between world cultures. In Western culture, there have long been several competing tuning systems, all with different qualities. Internationally, the system known as equal temperament is most commonly used today because it is considered the most satisfactory compromise that allows instruments of fixed tuning (e.g. the piano) to sound acceptably in tune in all keys.\n",
      "Notes can be arranged in a variety of scales and modes. Western music theory generally divides the octave into a series of twelve pitches, called a chromatic scale, within which the interval between adjacent tones is called a half step, or semitone. Selecting tones from this set of 12 and arranging them in patterns of semitones and whole tones creates other scales.[30]\n",
      "The most commonly encountered scales are the seven-toned major, the harmonic minor, the melodic minor, and the natural minor. Other examples of scales are the octatonic scale and the pentatonic or five-tone scale, which is common in folk music and blues. Non-Western cultures often use scales that do not correspond with an equally divided twelve-tone division of the octave. For example, classical Ottoman, Persian, Indian and Arabic musical systems often make use of multiples of quarter tones (half the size of a semitone, as the name indicates), for instance in 'neutral' seconds (three quarter tones) or 'neutral' thirds (seven quarter tones)—they do not normally use the quarter tone itself as a direct interval.[30]\n",
      "In traditional Western notation, the scale used for a composition is usually indicated by a key signature at the beginning to designate the pitches that make up that scale. As the music progresses, the pitches used may change and introduce a different scale. Music can be transposed from one scale to another for various purposes, often to accommodate the range of a vocalist. Such transposition raises or lowers the overall pitch range, but preserves the intervallic relationships of the original scale. For example, transposition from the key of C major to D major raises all pitches of the scale of C major equally by a whole tone. Since the interval relationships remain unchanged, transposition may be unnoticed by a listener, however other qualities may change noticeably because transposition changes the relationship of the overall pitch range compared to the range of the instruments or voices that perform the music. This often affects the music's overall sound, as well as having technical implications for the performers.[31]\n",
      "The interrelationship of the keys most commonly used in Western tonal music is conveniently shown by the circle of fifths. Unique key signatures are also sometimes devised for a particular composition. During the Baroque period, emotional associations with specific keys, known as the doctrine of the affections, were an important topic in music theory, but the unique tonal colorings of keys that gave rise to that doctrine were largely erased with the adoption of equal temperament. However, many musicians continue to feel that certain keys are more appropriate to certain emotions than others. Indian classical music theory continues to strongly associate keys with emotional states, times of day, and other extra-musical concepts and notably, does not employ equal temperament.\n",
      "Consonance and dissonance are subjective qualities of the sonority of intervals that vary widely in different cultures and over the ages. Consonance (or concord) is the quality of an interval or chord that seems stable and complete in itself. Dissonance (or discord) is the opposite in that it feels incomplete and \"wants to\" resolve to a consonant interval. Dissonant intervals seem to clash. Consonant intervals seem to sound comfortable together. Commonly, perfect fourths, fifths, and octaves and all major and minor thirds and sixths are considered consonant. All others are dissonant to greater or lesser degree.[32]\n",
      "Context and many other aspects can affect apparent dissonance and consonance. For example, in a Debussy prelude, a major second may sound stable and consonant, while the same interval may sound dissonant in a Bach fugue. In the Common practice era, the perfect fourth is considered dissonant when not supported by a lower third or fifth. Since the early 20th century, Arnold Schoenberg's concept of \"emancipated\" dissonance, in which traditionally dissonant intervals can be treated as \"higher,\" more remote consonances, has become more widely accepted.[32]\n",
      "Rhythm is produced by the sequential arrangement of sounds and silences in time. Meter measures music in regular pulse groupings, called measures or bars. The time signature or meter signature specifies how many beats are in a measure, and which value of written note is counted or felt as a single beat.\n",
      "Through increased stress, or variations in duration or articulation, particular tones may be accented. There are conventions in most musical traditions for regular and hierarchical accentuation of beats to reinforce a given meter. Syncopated rhythms contradict those conventions by accenting unexpected parts of the beat.[33] Playing simultaneous rhythms in more than one time signature is called polyrhythm.[34]\n",
      "In recent years, rhythm and meter have become an important area of research among music scholars. The most highly cited of these recent scholars are Maury Yeston,[35] Fred Lerdahl and Ray Jackendoff,[36] Jonathan Kramer,[37] and Justin London.[38]\n",
      "A melody is a series of tones perceived as an entity,[citation needed] sounding in succession that typically move toward a climax of tension then resolve to a state of rest. Because melody is such a prominent aspect in so much music, its construction and other qualities are a primary interest of music theory.\n",
      "The basic elements of melody are pitch, duration, rhythm, and tempo. The tones of a melody are usually drawn from pitch systems such as scales or modes. Melody may consist, to increasing degree, of the figure, motive, semi-phrase, antecedent and consequent phrase, and period or sentence. The period may be considered the complete melody, however some examples combine two periods, or use other combinations of constituents to create larger form melodies.[40]\n",
      "A chord, in music, is any harmonic set of three or more notes that is heard as if sounding simultaneously.[41]: pp. 67, 359 [42]: p. 63  These need not actually be played together: arpeggios and broken chords may, for many practical and theoretical purposes, constitute chords. Chords and sequences of chords are frequently used in modern Western, West African,[43] and Oceanian[44] music, whereas they are absent from the music of many other parts of the world.[45]: p. 15 \n",
      "The most frequently encountered chords are triads, so called because they consist of three distinct notes: further notes may be added to give seventh chords, extended chords, or added tone chords. The most common chords are the major and minor triads and then the augmented and diminished triads. The descriptions major, minor, augmented, and diminished are sometimes referred to collectively as chordal quality. Chords are also commonly classed by their root note—so, for instance, the chord C major may be described as a triad of major quality built on the note C. Chords may also be classified by inversion, the order in which the notes are stacked.\n",
      "A series of chords is called a chord progression. Although any chord may in principle be followed by any other chord, certain patterns of chords have been accepted as establishing key in common-practice harmony. To describe this, chords are numbered, using Roman numerals (upward from the key-note),[46] per their diatonic function. Common ways of notating or representing chords[47] in western music other than conventional staff notation include Roman numerals, figured bass (much used in the Baroque era), chord letters (sometimes used in modern musicology), and various systems of chord charts typically found in the lead sheets used in popular music to lay out the sequence of chords so that the musician may play accompaniment chords or improvise a solo.\n",
      "In music, harmony is the use of simultaneous pitches (tones, notes), or chords.[45]: p. 15  The study of harmony involves chords and their construction and chord progressions and the principles of connection that govern them.[48] Harmony is often said to refer to the \"vertical\" aspect of music, as distinguished from melodic line, or the \"horizontal\" aspect.[49] Counterpoint, which refers to the interweaving of melodic lines, and polyphony, which refers to the relationship of separate independent voices, is thus sometimes distinguished from harmony.[50]\n",
      "In popular and jazz harmony, chords are named by their root plus various terms and characters indicating their qualities. For example, a lead sheet may indicate chords such as C major, D minor, and G dominant seventh. In many types of music, notably Baroque, Romantic, modern, and jazz, chords are often augmented with \"tensions\". A tension is an additional chord member that creates a relatively dissonant interval in relation to the bass. It is part of a chord, but is not one of the chord tones (1 3 5 7). Typically, in the classical common practice period a dissonant chord (chord with tension) \"resolves\" to a consonant chord. Harmonization usually sounds pleasant to the ear when there is a balance between the consonant and dissonant sounds. In simple words, that occurs when there is a balance between \"tense\" and \"relaxed\" moments.[51][unreliable source?]\n",
      "Timbre, sometimes called \"color\", or \"tone color,\" is the principal phenomenon that allows us to distinguish one instrument from another when both play at the same pitch and volume, a quality of a voice or instrument often described in terms like bright, dull, shrill, etc. It is of considerable interest in music theory, especially because it is one component of music that has as yet, no standardized nomenclature. It has been called \"... the psychoacoustician's multidimensional waste-basket category for everything that cannot be labeled pitch or loudness,\"[52] but can be accurately described and analyzed by Fourier analysis and other methods[53] because it results from the combination of all sound frequencies, attack and release envelopes, and other qualities that a tone comprises.\n",
      "Timbre is principally determined by two things: (1) the relative balance of overtones produced by a given instrument due its construction (e.g. shape, material), and (2) the envelope of the sound (including changes in the overtone structure over time). Timbre varies widely between different instruments, voices, and to lesser degree, between instruments of the same type due to variations in their construction, and significantly, the performer's technique. The timbre of most instruments can be changed by employing different techniques while playing. For example, the timbre of a trumpet changes when a mute is inserted into the bell, the player changes their embouchure, or volume.[citation needed]\n",
      "A voice can change its timbre by the way the performer manipulates their vocal apparatus, (e.g. the shape of the vocal cavity or mouth). Musical notation frequently specifies alteration in timbre by changes in sounding technique, volume, accent, and other means. These are indicated variously by symbolic and verbal instruction. For example, the word dolce (sweetly) indicates a non-specific, but commonly understood soft and \"sweet\" timbre. Sul tasto instructs a string player to bow near or over the fingerboard to produce a less brilliant sound. Cuivre instructs a brass player to produce a forced and stridently brassy sound. Accent symbols like marcato (^) and dynamic indications (pp) can also indicate changes in timbre.[54]\n",
      "In music, \"dynamics\" normally refers to variations of intensity or volume, as may be measured by physicists and audio engineers in decibels or phons. In music notation, however, dynamics are not treated as absolute values, but as relative ones. Because they are usually measured subjectively, there are factors besides amplitude that affect the performance or perception of intensity, such as timbre, vibrato, and articulation.\n",
      "The conventional indications of dynamics are abbreviations for Italian words like forte (f) for loud and piano (p) for soft. These two basic notations are modified by indications including mezzo piano (mp) for moderately soft (literally \"half soft\") and mezzo forte (mf) for moderately loud, sforzando or sforzato (sfz) for a surging or \"pushed\" attack, or fortepiano (fp) for a loud attack with a sudden decrease to a soft level. The full span of these markings usually range from a nearly inaudible pianissississimo (pppp) to a loud-as-possible fortissississimo (ffff).\n",
      "Greater extremes of pppppp and fffff and nuances such as p+ or più piano are sometimes found. Other systems of indicating volume are also used in both notation and analysis: dB (decibels), numerical scales, colored or different sized notes, words in languages other than Italian, and symbols such as those for progressively increasing volume (crescendo) or decreasing volume (diminuendo or decrescendo), often called \"hairpins\" when indicated with diverging or converging lines as shown in the graphic above.\n",
      "Articulation is the way the performer sounds notes. For example, staccato is the shortening of duration compared to the written note value, legato performs the notes in a smoothly joined sequence with no separation. Articulation is often described rather than quantified, therefore there is room to interpret how to execute precisely each articulation.\n",
      "For example, staccato is often referred to as \"separated\" or \"detached\" rather than having a defined or numbered amount by which to reduce the notated duration. Violin players use a variety of techniques to perform different qualities of staccato. The manner in which a performer decides to execute a given articulation is usually based on the context of the piece or phrase, but many articulation symbols and verbal instructions depend on the instrument and musical period (e.g. viol, wind; classical, baroque; etc.).\n",
      "There is a set of articulations that most instruments and voices perform in common. They are—from long to short: legato (smooth, connected); tenuto (pressed or played to full notated duration); marcato (accented and detached); staccato (\"separated\", \"detached\"); martelé (heavily accented or \"hammered\").[contradictory] Many of these can be combined to create certain \"in-between\" articulations. For example, portato is the combination of tenuto and staccato. Some instruments have unique methods by which to produce sounds, such as spicatto for bowed strings, where the bow bounces off the string.\n",
      "In music, texture is how the melodic, rhythmic, and harmonic materials are combined in a composition, thus determining the overall quality of the sound in a piece. Texture is often described in regard to the density, or thickness, and range, or width, between lowest and highest pitches, in relative terms as well as more specifically distinguished according to the number of voices, or parts, and the relationship between these voices. For example, a thick texture contains many \"layers\" of instruments. One of these layers could be a string section, or another brass.\n",
      "The thickness also is affected by the number and the richness of the instruments playing the piece. The thickness varies from light to thick. A lightly textured piece will have light, sparse scoring. A thickly or heavily textured piece will be scored for many instruments. A piece's texture may be affected by the number and character of parts playing at once, the timbre of the instruments or voices playing these parts and the harmony, tempo, and rhythms used.[56] The types categorized by number and relationship of parts are analyzed and determined through the labeling of primary textural elements: primary melody, secondary melody, parallel supporting melody, static support, harmonic support, rhythmic support, and harmonic and rhythmic support.[57][incomplete short citation]\n",
      "Common types included monophonic texture (a single melodic voice, such as a piece for solo soprano or solo flute), biphonic texture (two melodic voices, such as a duo for bassoon and flute in which the bassoon plays a drone note and the flute plays the melody), polyphonic texture and homophonic texture (chords accompanying a melody).[citation needed]\n",
      "The term musical form (or musical architecture) refers to the overall structure or plan of a piece of music, and it describes the layout of a composition as divided into sections.[59] In the tenth edition of The Oxford Companion to Music, Percy Scholes defines musical form as \"a series of strategies designed to find a successful mean between the opposite extremes of unrelieved repetition and unrelieved alteration.\"[60] According to Richard Middleton, musical form is \"the shape or structure of the work.\" He describes it through difference: the distance moved from a repeat; the latter being the smallest difference. Difference is quantitative and qualitative: how far, and of what type, different. In many cases, form depends on statement and restatement, unity and variety, and contrast and connection.[61]\n",
      "Musical expression is the art of playing or singing music with emotional communication. The elements of music that comprise expression include dynamic indications, such as forte or piano, phrasing, differing qualities of timbre and articulation, color, intensity, energy and excitement. All of these devices can be incorporated by the performer. A performer aims to elicit responses of sympathetic feeling in the audience, and to excite, calm or otherwise sway the audience's physical and emotional responses. Musical expression is sometimes thought to be produced by a combination of other parameters, and sometimes described as a transcendent quality that is more than the sum of measurable quantities such as pitch or duration.\n",
      "Expression on instruments can be closely related to the role of the breath in singing, and the voice's natural ability to express feelings, sentiment and deep emotions.[clarification needed] Whether these can somehow be categorized is perhaps the realm of academics, who view expression as an element of musical performance that embodies a consistently recognizable emotion, ideally causing a sympathetic emotional response in its listeners.[62] The emotional content of musical expression is distinct from the emotional content of specific sounds (e.g., a startlingly-loud 'bang') and of learned associations (e.g., a national anthem), but can rarely be completely separated from its context.[citation needed]\n",
      "The components of musical expression continue to be the subject of extensive and unresolved dispute.[63][64][65][66][67][68]\n",
      "Musical notation is the written or symbolized representation of music. This is most often achieved by the use of commonly understood graphic symbols and written verbal instructions and their abbreviations. There are many systems of music notation from different cultures and different ages. Traditional Western notation evolved during the Middle Ages and remains an area of experimentation and innovation.[69]In the 2000s, computer file formats have become important as well.[70] Spoken language and hand signs are also used to symbolically represent music, primarily in teaching.\n",
      "In standard Western music notation, tones are represented graphically by symbols (notes) placed on a staff or staves, the vertical axis corresponding to pitch and the horizontal axis corresponding to time. Note head shapes, stems, flags, ties and dots are used to indicate duration. Additional symbols indicate keys, dynamics, accents, rests, etc. Verbal instructions from the conductor are often used to indicate tempo, technique, and other aspects.\n",
      "In Western music, a range of different music notation systems are used. In Western Classical music, conductors use printed scores that show all of the instruments' parts and orchestra members read parts with their musical lines written out. In popular styles of music, much less of the music may be notated. A rock band may go into a recording session with just a handwritten chord chart indicating the song's chord progression using chord names (e.g., C major, D minor, G7, etc.). All of the chord voicings, rhythms and accompaniment figures are improvised by the band members.\n",
      "The scholarly study of music theory in the twentieth century has a number of different subfields, each of which takes a different perspective on what are the primary phenomenon of interest and the most useful methods for investigation.\n",
      "Musical analysis is the attempt to answer the question how does this music work? The method employed to answer this question, and indeed exactly what is meant by the question, differs from analyst to analyst, and according to the purpose of the analysis. According to Ian Bent, \"analysis, as a pursuit in its own right, came to be established only in the late 19th century; its emergence as an approach and method can be traced back to the 1750s. However, it existed as a scholarly tool, albeit an auxiliary one, from the Middle Ages onwards.\"[71][incomplete short citation] Adolf Bernhard Marx was influential in formalising concepts about composition and music understanding towards the second half of the 19th century. The principle of analysis has been variously criticized, especially by composers, such as Edgard Varèse's claim that, \"to explain by means of [analysis] is to decompose, to mutilate the spirit of a work\".[72]\n",
      "Schenkerian analysis is a method of musical analysis of tonal music based on the theories of Heinrich Schenker (1868–1935). The goal of a Schenkerian analysis is to interpret the underlying structure of a tonal work and to help reading the score according to that structure. The theory's basic tenets can be viewed as a way of defining tonality in music. A Schenkerian analysis of a passage of music shows hierarchical relationships among its pitches, and draws conclusions about the structure of the passage from this hierarchy. The analysis makes use of a specialized symbolic form of musical notation that Schenker devised to demonstrate various techniques of elaboration. The most fundamental concept of Schenker's theory of tonality may be that of tonal space.[73] The intervals between the notes of the tonic triad form a tonal space that is filled with passing and neighbour notes, producing new triads and new tonal spaces, open for further elaborations until the surface of the work (the score) is reached.\n",
      "Although Schenker himself usually presents his analyses in the generative direction, starting from the fundamental structure (Ursatz) to reach the score, the practice of Schenkerian analysis more often is reductive, starting from the score and showing how it can be reduced to its fundamental structure. The graph of the Ursatz is arrhythmic, as is a strict-counterpoint cantus firmus exercise.[74] Even at intermediate levels of the reduction, rhythmic notation (open and closed noteheads, beams and flags) shows not rhythm but the hierarchical relationships between the pitch-events. Schenkerian analysis is subjective. There is no mechanical procedure involved and the analysis reflects the musical intuitions of the analyst.[75] The analysis represents a way of hearing (and reading) a piece of music.\n",
      "Transformational theory is a branch of music theory developed by David Lewin in the 1980s, and formally introduced in his 1987 work, Generalized Musical Intervals and Transformations. The theory, which models musical transformations as elements of a mathematical group, can be used to analyze both tonal and atonal music. The goal of transformational theory is to change the focus from musical objects—such as the \"C major chord\" or \"G major chord\"—to relations between objects. Thus, instead of saying that a C major chord is followed by G major, a transformational theorist might say that the first chord has been \"transformed\" into the second by the \"Dominant operation.\" (Symbolically, one might write \"Dominant(C major) = G major.\") While traditional musical set theory focuses on the makeup of musical objects, transformational theory focuses on the intervals or types of musical motion that can occur. According to Lewin's description of this change in emphasis, \"[The transformational] attitude does not ask for some observed measure of extension between reified 'points'; rather it asks: 'If I am at s and wish to get to t, what characteristic gesture should I perform in order to arrive there?'\"[76]\n",
      "Music psychology or the psychology of music may be regarded as a branch of both psychology and musicology. It aims to explain and understand musical behavior and experience, including the processes through which music is perceived, created, responded to, and incorporated into everyday life.[77][78] Modern music psychology is primarily empirical; its knowledge tends to advance on the basis of interpretations of data collected by systematic observation of and interaction with human participants. Music psychology is a field of research with practical relevance for many areas, including music performance, composition, education, criticism, and therapy, as well as investigations of human aptitude, skill, intelligence, creativity, and social behavior.\n",
      "Music psychology can shed light on non-psychological aspects of musicology and musical practice. For example, it contributes to music theory through investigations of the perception and computational modelling of musical structures such as melody, harmony, tonality, rhythm, meter, and form. Research in music history can benefit from systematic study of the history of musical syntax, or from psychological analyses of composers and compositions in relation to perceptual, affective, and social responses to their music. Ethnomusicology can benefit from psychological approaches to the study of music cognition in different cultures.[79][citation needed]\n",
      "A music genre is a conventional category that identifies some pieces of music as belonging to a shared tradition or set of conventions.[80] It is to be distinguished from musical form and musical style, although in practice these terms are sometimes used interchangeably.[81][failed verification]\n",
      "Music can be divided into different genres in many different ways. The artistic nature of music means that these classifications are often subjective and controversial, and some genres may overlap. There are even varying academic definitions of the term genre itself. In his book Form in Tonal Music, Douglass M. Green distinguishes between genre and form. He lists madrigal, motet, canzona, ricercar, and dance as examples of genres from the Renaissance period. To further clarify the meaning of genre, Green writes, \"Beethoven's Op. 61 and Mendelssohn's Op. 64 are identical in genre—both are violin concertos—but different in form. However, Mozart's Rondo for Piano, K. 511, and the Agnus Dei from his Mass, K. 317 are quite different in genre but happen to be similar in form.\"[82] Some, like Peter van der Merwe, treat the terms genre and style as the same, saying that genre should be defined as pieces of music that came from the same style or \"basic musical language.\"[83]\n",
      "Others, such as Allan F. Moore, state that genre and style are two separate terms, and that secondary characteristics such as subject matter can also differentiate between genres.[84] A music genre or subgenre may also be defined by the musical techniques, the style, the cultural context, and the content and spirit of the themes. Geographical origin is sometimes used to identify a music genre, though a single geographical category will often include a wide variety of subgenres. Timothy Laurie argues that \"since the early 1980s, genre has graduated from being a subset of popular music studies to being an almost ubiquitous framework for constituting and evaluating musical research objects\".[85]\n",
      "Musical technique is the ability of instrumental and vocal musicians to exert optimal control of their instruments or vocal cords to produce precise musical effects. Improving technique generally entails practicing exercises that improve muscular sensitivity and agility. To improve technique, musicians often practice fundamental patterns of notes such as the natural, minor, major, and chromatic scales, minor and major triads, dominant and diminished sevenths, formula patterns and arpeggios. For example, triads and sevenths teach how to play chords with accuracy and speed. Scales teach how to move quickly and gracefully from one note to another (usually by step). Arpeggios teach how to play broken chords over larger intervals. Many of these components of music are found in compositions, for example, a scale is a very common element of classical and romantic era compositions.[citation needed]\n",
      "Heinrich Schenker argued that musical technique's \"most striking and distinctive characteristic\" is repetition.[86] Works known as études (meaning \"study\") are also frequently used for the improvement of technique.\n",
      "Music theorists sometimes use mathematics to understand music, and although music has no axiomatic foundation in modern mathematics, mathematics is \"the basis of sound\" and sound itself \"in its musical aspects... exhibits a remarkable array of number properties\", simply because nature itself \"is amazingly mathematical\".[87] The attempt to structure and communicate new ways of composing and hearing music has led to musical applications of set theory, abstract algebra and number theory. Some composers have incorporated the golden ratio and Fibonacci numbers into their work.[88][89] There is a long history of examining the relationships between music and mathematics. Though ancient Chinese, Egyptians and Mesopotamians are known to have studied the mathematical principles of sound,[90] the Pythagoreans (in particular Philolaus and Archytas)[91] of ancient Greece were the first researchers known to have investigated the expression of musical scales in terms of numerical ratios.\n",
      "In the modern era, musical set theory uses the language of mathematical set theory in an elementary way to organize musical objects and describe their relationships. To analyze the structure of a piece of (typically atonal) music using musical set theory, one usually starts with a set of tones, which could form motives or chords. By applying simple operations such as transposition and inversion, one can discover deep structures in the music. Operations such as transposition and inversion are called isometries because they preserve the intervals between tones in a set. Expanding on the methods of musical set theory, some theorists have used abstract algebra to analyze music. For example, the pitch classes in an equally tempered octave form an abelian group with 12 elements. It is possible to describe just intonation in terms of a free abelian group.[92]\n",
      "In music theory, serialism is a method or technique of composition that uses a series of values to manipulate different musical elements. Serialism began primarily with Arnold Schoenberg's twelve-tone technique, though his contemporaries were also working to establish serialism as one example of post-tonal thinking. Twelve-tone technique orders the twelve notes of the chromatic scale, forming a row or series and providing a unifying basis for a composition's melody, harmony, structural progressions, and variations. Other types of serialism also work with sets, collections of objects, but not necessarily with fixed-order series, and extend the technique to other musical dimensions (often called \"parameters\"), such as duration, dynamics, and timbre. The idea of serialism is also applied in various ways in the visual arts, design, and architecture[93]\n",
      "\"Integral serialism\" or \"total serialism\" is the use of series for aspects such as duration, dynamics, and register as well as pitch. [94] Other terms, used especially in Europe to distinguish post-World War II serial music from twelve-tone music and its American extensions, are \"general serialism\" and \"multiple serialism\".[95]\n",
      "Musical set theory provides concepts for categorizing musical objects and describing their relationships. Many of the notions were first elaborated by Howard Hanson (1960) in connection with tonal music, and then mostly developed in connection with atonal music by theorists such as Allen Forte (1973), drawing on the work in twelve-tone theory of Milton Babbitt. The concepts of set theory are very general and can be applied to tonal and atonal styles in any equally tempered tuning system, and to some extent more generally than that.[citation needed]\n",
      "One branch of musical set theory deals with collections (sets and permutations) of pitches and pitch classes (pitch-class set theory), which may be ordered or unordered, and can be related by musical operations such as transposition, inversion, and complementation. The methods of musical set theory are sometimes applied to the analysis of rhythm as well.[citation needed]\n",
      "Music semiology (semiotics) is the study of signs as they pertain to music on a variety of levels. Following Roman Jakobson, Kofi Agawu adopts the idea of musical semiosis being introversive or extroversive—that is, musical signs within a text and without.[citation needed] \"Topics,\" or various musical conventions (such as horn calls, dance forms, and styles), have been treated suggestively by Agawu, among others.[citation needed] The notion of gesture is beginning to play a large role in musico-semiotic enquiry.[citation needed]\n",
      "Writers on music semiology include Kofi Agawu (on topical theory,[citation needed] Heinrich Schenker,[104][105] Robert Hatten (on topic, gesture)[citation needed], Raymond Monelle (on topic, musical meaning)[citation needed], Jean-Jacques Nattiez (on introversive taxonomic analysis and ethnomusicological applications)[citation needed], Anthony Newcomb (on narrativity)[citation needed], and Eero Tarasti[citation needed] (generally considered the founder of musical semiotics).[clarification needed]\n",
      "Roland Barthes, himself a semiotician and skilled amateur pianist, wrote about music in Image-Music-Text,[full citation needed] The Responsibilities of Form,[full citation needed] and Eiffel Tower,[full citation needed] though he did not consider music to be a semiotic system[citation needed].\n",
      "Signs, meanings in music, happen essentially through the connotations of sounds, and through the social construction, appropriation and amplification of certain meanings associated with these connotations. The work of Philip Tagg (Ten Little Tunes,[full citation needed] Fernando the Flute,[full citation needed] Music's Meanings[full citation needed]) provides one of the most complete and systematic analysis of the relation between musical structures and connotations in western and especially popular, television and film music. The work of Leonard B. Meyer in Style and Music[full citation needed] theorizes the relationship between ideologies and musical structures and the phenomena of style change, and focuses on romanticism as a case study.\n",
      "Music theory in the practical sense has been a part of education at conservatories and music schools for centuries, but the status music theory currently has within academic institutions is relatively recent. In the 1970s, few universities had dedicated music theory programs, many music theorists had been trained as composers or historians, and there was a belief among theorists that the teaching of music theory was inadequate and that the subject was not properly recognised as a scholarly discipline in its own right.[106] A growing number of scholars began promoting the idea that music theory should be taught by theorists, rather than composers, performers or music historians.[106] This led to the founding of the Society for Music Theory in the United States in 1977. In Europe, the French Société d'Analyse musicale was founded in 1985. It called the First European Conference of Music Analysis for 1989, which resulted in the foundation of the Société belge d'Analyse musicale in Belgium and the Gruppo analisi e teoria musicale in Italy the same year, the Society for Music Analysis in the UK in 1991, the Vereniging voor Muziektheorie in the Netherlands in 1999 and the Gesellschaft für Musiktheorie in Germany in 2000.[107] They were later followed by the Russian Society for Music Theory in 2013, the Polish Society for Music Analysis in 2015 and the Sociedad de Análisis y Teoría Musical in Spain in 2020, and others are in construction. These societies coordinate the publication of music theory scholarship and support the professional development of music theory researchers.\n",
      "As part of their initial training, music theorists will typically complete a B.Mus or a B.A. in music (or a related field) and in many cases an M.A. in music theory. Some individuals apply directly from a bachelor's degree to a PhD, and in these cases, they may not receive an M.A. In the 2010s, given the increasingly interdisciplinary nature of university graduate programs, some applicants for music theory PhD programs may have academic training both in music and outside of music (e.g., a student may apply with a B.Mus and a Masters in Music Composition or Philosophy of Music).\n",
      "Most music theorists work as instructors, lecturers or professors in colleges, universities or conservatories. The job market for tenure-track professor positions is very competitive: with an average of around 25 tenure-track positions advertised per year in the past decade, 80–100 PhD graduates are produced each year (according to the Survey of Earned Doctorates) who compete not only with each other for those positions but with job seekers that received PhD's in previous years who are still searching for a tenure-track job. Applicants must hold a completed PhD or the equivalent degree (or expect to receive one within a year of being hired—called an \"ABD\", for \"All But Dissertation\" stage) and (for more senior positions) have a strong record of publishing in peer-reviewed journals. Some PhD-holding music theorists are only able to find insecure positions as sessional lecturers. The job tasks of a music theorist are the same as those of a professor in any other humanities discipline: teaching undergraduate and/or graduate classes in this area of specialization and, in many cases some general courses (such as Music appreciation or Introduction to Music Theory), conducting research in this area of expertise, publishing research articles in peer-reviewed journals, authoring book chapters, books or textbooks, traveling to conferences to present papers and learn about research in the field, and, if the program includes a graduate school, supervising M.A. and PhD students and giving them guidance on the preparation of their theses and dissertations. Some music theory professors may take on senior administrative positions in their institution, such as Dean or Chair of the School of Music.\n",
      "\n"
     ]
    }
   ],
   "source": [
    "print(url_to_text['https://en.wikipedia.org/wiki/Music_theory'])"
   ]
  },
  {
   "cell_type": "code",
   "execution_count": 27,
   "outputs": [],
   "source": [
    "# A word of caution:\n",
    "# We have not extracted all of the main content's text,\n",
    "# as some text may be contained in lists and tables, outside of paragraphs we scraped"
   ],
   "metadata": {
    "collapsed": false,
    "pycharm": {
     "name": "#%%\n"
    }
   }
  }
 ],
 "metadata": {
  "kernelspec": {
   "display_name": "Python 3",
   "language": "python",
   "name": "python3"
  },
  "language_info": {
   "codemirror_mode": {
    "name": "ipython",
    "version": 3
   },
   "file_extension": ".py",
   "mimetype": "text/x-python",
   "name": "python",
   "nbconvert_exporter": "python",
   "pygments_lexer": "ipython3",
   "version": "3.7.3"
  }
 },
 "nbformat": 4,
 "nbformat_minor": 2
}