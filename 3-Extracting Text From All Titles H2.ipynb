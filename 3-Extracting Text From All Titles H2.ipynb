{
 "cells": [
  {
   "cell_type": "markdown",
   "source": [
    "# Set-up and Workflow"
   ],
   "metadata": {
    "collapsed": false,
    "pycharm": {
     "name": "#%% md\n"
    }
   }
  },
  {
   "cell_type": "markdown",
   "source": [
    "### Importing the packages"
   ],
   "metadata": {
    "collapsed": false,
    "pycharm": {
     "name": "#%% md\n"
    }
   }
  },
  {
   "cell_type": "code",
   "execution_count": 1,
   "outputs": [],
   "source": [
    "# Load the packages\n",
    "import requests\n",
    "from bs4 import BeautifulSoup"
   ],
   "metadata": {
    "collapsed": false,
    "pycharm": {
     "name": "#%%\n"
    }
   }
  },
  {
   "cell_type": "markdown",
   "source": [
    "### Making a GET request"
   ],
   "metadata": {
    "collapsed": false,
    "pycharm": {
     "name": "#%% md\n"
    }
   }
  },
  {
   "cell_type": "code",
   "execution_count": 2,
   "outputs": [
    {
     "data": {
      "text/plain": "200"
     },
     "execution_count": 2,
     "metadata": {},
     "output_type": "execute_result"
    }
   ],
   "source": [
    "# Defining the url of the site\n",
    "base_site = \"https://en.wikipedia.org/wiki/Music\"\n",
    "\n",
    "# Making a get request\n",
    "response = requests.get(base_site)\n",
    "response.status_code"
   ],
   "metadata": {
    "collapsed": false,
    "pycharm": {
     "name": "#%%\n"
    }
   }
  },
  {
   "cell_type": "code",
   "execution_count": 3,
   "outputs": [
    {
     "data": {
      "text/plain": "b'<!DOCTYPE html>\\n<html class=\"client-nojs\" lang=\"en\" dir=\"ltr\">\\n<head>\\n<meta charset=\"UTF-8\"/>\\n<title'"
     },
     "execution_count": 3,
     "metadata": {},
     "output_type": "execute_result"
    }
   ],
   "source": [
    "# Extracting the HTML\n",
    "html = response.content\n",
    "\n",
    "# Checking that the reply is indeed an HTML code by inspecting the first 100 symbols\n",
    "html[:100]"
   ],
   "metadata": {
    "collapsed": false,
    "pycharm": {
     "name": "#%%\n"
    }
   }
  },
  {
   "cell_type": "markdown",
   "source": [
    "### Making the soup"
   ],
   "metadata": {
    "collapsed": false,
    "pycharm": {
     "name": "#%% md\n"
    }
   }
  },
  {
   "cell_type": "code",
   "execution_count": 4,
   "outputs": [],
   "source": [
    "# Convert HTML to a BeautifulSoup object. This will allow us to parse out content from the HTML more easily.\n",
    "# Using the default parser as it is included in Python\n",
    "soup = BeautifulSoup(html, \"html.parser\")"
   ],
   "metadata": {
    "collapsed": false,
    "pycharm": {
     "name": "#%%\n"
    }
   }
  },
  {
   "cell_type": "markdown",
   "source": [
    "### Getting links on page"
   ],
   "metadata": {
    "collapsed": false,
    "pycharm": {
     "name": "#%% md\n"
    }
   }
  },
  {
   "cell_type": "code",
   "execution_count": 6,
   "outputs": [
    {
     "data": {
      "text/plain": "[<h2 id=\"mw-toc-heading\">Contents</h2>,\n <h2><span class=\"mw-headline\" id=\"Etymology_and_terminology\">Etymology and terminology</span></h2>,\n <h2><span class=\"mw-headline\" id=\"History\">History</span></h2>,\n <h2><span class=\"mw-headline\" id=\"Art_and_entertainment\">Art and entertainment</span></h2>,\n <h2><span class=\"mw-headline\" id=\"Elements\">Elements</span></h2>,\n <h2><span class=\"mw-headline\" id=\"Performance\">Performance</span></h2>,\n <h2><span class=\"mw-headline\" id=\"Philosophy_and_aesthetics\">Philosophy and aesthetics</span></h2>,\n <h2><span class=\"mw-headline\" id=\"Psychology\">Psychology</span></h2>,\n <h2><span class=\"mw-headline\" id=\"Sociological_aspects\">Sociological aspects</span></h2>,\n <h2><span class=\"mw-headline\" id=\"Media_and_technology\">Media and technology</span></h2>,\n <h2><span class=\"mw-headline\" id=\"Business\">Business</span></h2>,\n <h2><span class=\"mw-headline\" id=\"Education\">Education</span></h2>,\n <h2><span class=\"mw-headline\" id=\"Academic_study\">Academic study</span></h2>,\n <h2><span class=\"mw-headline\" id=\"Therapy\">Therapy</span></h2>,\n <h2><span class=\"mw-headline\" id=\"See_also\">See also</span></h2>,\n <h2><span class=\"mw-headline\" id=\"Notes\">Notes</span></h2>,\n <h2><span class=\"mw-headline\" id=\"References\">References</span></h2>,\n <h2><span class=\"mw-headline\" id=\"Sources\">Sources</span></h2>,\n <h2><span class=\"mw-headline\" id=\"Further_reading\">Further reading</span></h2>,\n <h2><span class=\"mw-headline\" id=\"External_links\">External links</span></h2>,\n <h2>Navigation menu</h2>]"
     },
     "execution_count": 6,
     "metadata": {},
     "output_type": "execute_result"
    }
   ],
   "source": [
    "# If we want all the results we use find_all() to get all H2 titles\n",
    "title = soup.find_all('h2')\n",
    "title"
   ],
   "metadata": {
    "collapsed": false,
    "pycharm": {
     "name": "#%%\n"
    }
   }
  },
  {
   "cell_type": "code",
   "execution_count": 13,
   "outputs": [
    {
     "data": {
      "text/plain": "['Contents',\n 'Etymology and terminology',\n 'History',\n 'Art and entertainment',\n 'Elements',\n 'Performance',\n 'Philosophy and aesthetics',\n 'Psychology',\n 'Sociological aspects',\n 'Media and technology',\n 'Business',\n 'Education',\n 'Academic study',\n 'Therapy',\n 'See also',\n 'Notes',\n 'References',\n 'Sources',\n 'Further reading',\n 'External links',\n 'Navigation menu']"
     },
     "execution_count": 13,
     "metadata": {},
     "output_type": "execute_result"
    }
   ],
   "source": [
    "# Getting the text from H2\n",
    "[l.text for l in title]"
   ],
   "metadata": {
    "collapsed": false,
    "pycharm": {
     "name": "#%%\n"
    }
   }
  }
 ],
 "metadata": {
  "kernelspec": {
   "display_name": "Python 3",
   "language": "python",
   "name": "python3"
  },
  "language_info": {
   "codemirror_mode": {
    "name": "ipython",
    "version": 2
   },
   "file_extension": ".py",
   "mimetype": "text/x-python",
   "name": "python",
   "nbconvert_exporter": "python",
   "pygments_lexer": "ipython2",
   "version": "2.7.6"
  }
 },
 "nbformat": 4,
 "nbformat_minor": 0
}